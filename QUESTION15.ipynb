{
 "cells": [
  {
   "cell_type": "markdown",
   "metadata": {},
   "source": [
    "MAGOMU EMMANUEL\n",
    "M24B38/011\n",
    "B27294\n",
    "BSDS 1:2"
   ]
  },
  {
   "cell_type": "markdown",
   "metadata": {},
   "source": [
    "IMPORTING AND LOADING THE DATASET"
   ]
  },
  {
   "cell_type": "code",
   "execution_count": 3,
   "metadata": {},
   "outputs": [],
   "source": [
    "from scipy import stats\n",
    "import pandas as pd\n",
    "import numpy as np\n",
    "\n",
    "# Read the Excel file from Documents\n",
    "df = pd.read_excel('C:/Users/EHMAH/Documents/HousingData.xlsx')\n"
   ]
  },
  {
   "cell_type": "markdown",
   "metadata": {},
   "source": [
    "SUBSETTING THE DATASET"
   ]
  },
  {
   "cell_type": "code",
   "execution_count": null,
   "metadata": {},
   "outputs": [
    {
     "name": "stdout",
     "output_type": "stream",
     "text": [
      "Group 1 (CRIM <= 0.7) Summary:\n",
      "Number of observations: 316\n",
      "First few rows of Group 1:\n",
      "   PID     CRIM    AC  INDUS   LS     PR     RM   AGE     DIS  RAD  PTRATIO  \\\n",
      "0  101  0.00632  18.0   2.31  0.0  0.538  6.575  65.2  4.0900  1.0     15.3   \n",
      "1  102  0.02731   0.0   7.07  0.0  0.469  6.421  78.9  4.9671  2.0     17.8   \n",
      "2  103  0.02729   0.0   7.07  0.0  0.469  7.185  61.1  4.9671  2.0     17.8   \n",
      "3  104  0.03237   0.0   2.18  0.0  0.458  6.998  45.8  6.0622  3.0     18.7   \n",
      "4  105  0.06905   0.0   2.18  0.0  0.458  7.147  54.2  6.0622  3.0     18.7   \n",
      "\n",
      "      DMT  LSTAT   MO    TAX  \n",
      "0  396.90   4.98  2.0  296.0  \n",
      "1  396.90   9.14  2.0  242.0  \n",
      "2  292.40   4.03  3.0  242.0  \n",
      "3  394.63   2.94  0.0  222.0  \n",
      "4  396.90   5.33  0.0  222.0  \n",
      "Group 2 (CRIM > 0.7) Summary:\n",
      "Number of observations: 188\n",
      "First few rows of Group 2:\n",
      "    PID     CRIM   AC  INDUS   LS     PR     RM   AGE     DIS  RAD  PTRATIO  \\\n",
      "16  117  1.05393  0.0   8.14  0.0  0.538  5.935  29.3  4.4986  4.0     21.0   \n",
      "17  118  0.78420  0.0   8.14  0.0  0.538  5.990  81.7  4.2579  4.0     21.0   \n",
      "18  119  0.80271  0.0   8.14  0.0  0.538  5.456  36.6  3.7965  4.0     21.0   \n",
      "19  120  0.72580  0.0   8.14  0.0  0.538  5.727  69.5  3.7965  4.0     21.0   \n",
      "20  121  1.25179  0.0   8.14  0.0  0.538  5.570  98.1  3.7979  4.0     21.0   \n",
      "\n",
      "       DMT  LSTAT   MO    TAX  \n",
      "16  386.85   6.58  0.0  307.0  \n",
      "17  386.75  14.67  0.0  307.0  \n",
      "18   32.30  11.69  0.0  307.0  \n",
      "19  390.95  11.28  0.0  307.0  \n",
      "20  376.57  21.02  0.0  307.0  \n"
     ]
    }
   ],
   "source": [
    "# The two groups\n",
    "group1 = df[df['CRIM'] <= 0.7]\n",
    "group2 = df[df['CRIM'] > 0.7]\n",
    "\n",
    "# Information about the groups\n",
    "print('Group 1 (CRIM <= 0.7) Summary:')\n",
    "print('Number of observations:', len(group1))\n",
    "print('\\\n",
    "First few rows of Group 1:')\n",
    "print(group1.head())\n",
    "\n",
    "print('\\\n",
    "\\\n",
    "Group 2 (CRIM > 0.7) Summary:')\n",
    "print('Number of observations:', len(group2))\n",
    "print('\\\n",
    "First few rows of Group 2:')\n",
    "print(group2.head())"
   ]
  },
  {
   "cell_type": "markdown",
   "metadata": {},
   "source": [
    "A---NULL HYPOTHESIS THAT COMPARES CRIM OF UGANDA TO GROUP 1 OF SUBSETTED DATABASE"
   ]
  },
  {
   "cell_type": "code",
   "execution_count": null,
   "metadata": {},
   "outputs": [
    {
     "name": "stdout",
     "output_type": "stream",
     "text": [
      "Mean CRIM of Group 1: 0.1636730696202532\n",
      "T-statistic: -5261.707882757563\n",
      "P-value: 0.0\n"
     ]
    }
   ],
   "source": [
    "\n",
    "\n",
    "# mean CRIM for Group 1\n",
    "group1_mean_crim = group1['CRIM'].mean()\n",
    "\n",
    "# One-sample t-test\n",
    "uganda_crim = 46.6\n",
    "\n",
    "# Null hypothesis: The mean CRIM of Group 1 is equal to the mean CRIM of Uganda\n",
    "\n",
    "# Alternative hypothesis: The mean CRIM of Group 1 is not equal to the mean CRIM of Uganda\n",
    "t_statistic, p_value = stats.ttest_1samp(group1['CRIM'], uganda_crim)\n",
    "\n",
    "# Display\n",
    "print('Mean CRIM of Group 1:', group1_mean_crim)\n",
    "print('T-statistic:', t_statistic)\n",
    "print('P-value:', p_value)"
   ]
  },
  {
   "cell_type": "markdown",
   "metadata": {},
   "source": [
    "B---NULL HYPOTHESIS THAT COMPARES  CRIM OF UNITED STATES IN 2024 TO GROUP 2 OF SUBSETTED DATASET"
   ]
  },
  {
   "cell_type": "code",
   "execution_count": 6,
   "metadata": {},
   "outputs": [
    {
     "name": "stdout",
     "output_type": "stream",
     "text": [
      "Mean CRIM of Group 2: 9.38682829787234\n",
      "Standard Deviation of Group 2: 12.070677746577761\n",
      "T-statistic: -45.22452831012455\n",
      "P-value: 1.2411309085153895e-102\n",
      "Descriptive Statistics for Group 2 CRIM:\n",
      "count    188.000000\n",
      "mean       9.386828\n",
      "std       12.070678\n",
      "min        0.725800\n",
      "25%        2.376082\n",
      "50%        5.822580\n",
      "75%       11.121175\n",
      "max       88.976200\n",
      "Name: CRIM, dtype: float64\n"
     ]
    }
   ],
   "source": [
    "from scipy import stats\n",
    "\n",
    "# Mean CRIM for Group 2\n",
    "group2_mean_crim = group2['CRIM'].mean()\n",
    "\n",
    "# A one-sample t-test\n",
    "us_crim = 49.2\n",
    "\n",
    "# Null hypothesis: The mean CRIM of Group 2 is equal to the mean CRIM of United States\n",
    "\n",
    "# Alternative hypothesis: The mean CRIM of Group 2 is not equal to the mean CRIM of United States\n",
    "\n",
    "t_statistic, p_value = stats.ttest_1samp(group2['CRIM'], us_crim)\n",
    "\n",
    "# Statistics\n",
    "print('Mean CRIM of Group 2:', group2_mean_crim)\n",
    "print('Standard Deviation of Group 2:', group2['CRIM'].std())\n",
    "print('T-statistic:', t_statistic)\n",
    "print('P-value:', p_value)\n",
    "\n",
    "# Descriptive statistics for Group 2\n",
    "print('\\\n",
    "Descriptive Statistics for Group 2 CRIM:')\n",
    "print(group2['CRIM'].describe())"
   ]
  }
 ],
 "metadata": {
  "kernelspec": {
   "display_name": "Python 3",
   "language": "python",
   "name": "python3"
  },
  "language_info": {
   "codemirror_mode": {
    "name": "ipython",
    "version": 3
   },
   "file_extension": ".py",
   "mimetype": "text/x-python",
   "name": "python",
   "nbconvert_exporter": "python",
   "pygments_lexer": "ipython3",
   "version": "3.12.6"
  }
 },
 "nbformat": 4,
 "nbformat_minor": 2
}
